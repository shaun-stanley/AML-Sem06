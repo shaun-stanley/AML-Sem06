{
  "nbformat": 4,
  "nbformat_minor": 0,
  "metadata": {
    "colab": {
      "provenance": [],
      "toc_visible": true,
      "mount_file_id": "1CpENcCthEbukA4Z-GxJvxoBZEDV17bH1",
      "authorship_tag": "ABX9TyNsyJd9AbavgRbnUjJI89xT",
      "include_colab_link": true
    },
    "kernelspec": {
      "name": "python3",
      "display_name": "Python 3"
    },
    "language_info": {
      "name": "python"
    },
    "gpuClass": "standard",
    "accelerator": "GPU"
  },
  "cells": [
    {
      "cell_type": "markdown",
      "metadata": {
        "id": "view-in-github",
        "colab_type": "text"
      },
      "source": [
        "<a href=\"https://colab.research.google.com/github/shaun-stanley/AML-Sem06/blob/main/Assignment_01.ipynb\" target=\"_parent\"><img src=\"https://colab.research.google.com/assets/colab-badge.svg\" alt=\"Open In Colab\"/></a>"
      ]
    },
    {
      "cell_type": "markdown",
      "source": [
        "# Import Libraries & Packages"
      ],
      "metadata": {
        "id": "y2-5PQ08p13_"
      }
    },
    {
      "cell_type": "code",
      "execution_count": null,
      "metadata": {
        "id": "oWa-_mV6prK0"
      },
      "outputs": [],
      "source": [
        "# Import all the libraries and packages required\n",
        "!pip install openpyxl \n",
        "import numpy as np\n",
        "import tensorflow as tf\n",
        "from tensorflow import keras\n",
        "from tensorflow.keras.models import Sequential\n",
        "from tensorflow.keras.layers import Activation, Dense, Flatten, BatchNormalization, Conv2D, MaxPool2D\n",
        "from tensorflow.keras.optimizers import Adam\n",
        "from tensorflow.keras.metrics import categorical_crossentropy\n",
        "from tensorflow.keras.preprocessing.image import ImageDataGenerator\n",
        "from sklearn.metrics import confusion_matrix\n",
        "import itertools\n",
        "import os\n",
        "import shutil\n",
        "import random\n",
        "import glob\n",
        "import matplotlib.pyplot as plt\n",
        "import warnings\n",
        "import pandas as pd\n",
        "warnings.simplefilter(action='ignore', category=FutureWarning)\n",
        "%matplotlib inline"
      ]
    },
    {
      "cell_type": "code",
      "source": [
        "# Enable memory growth if GPU is available\n",
        "physical_devices = tf.config.experimental.list_physical_devices('GPU')\n",
        "print(\"Num of GPUs Available: \" , len(physical_devices))\n",
        "tf.config.experimental.set_memory_growth(physical_devices[0], True)"
      ],
      "metadata": {
        "id": "3asWROfTrO91"
      },
      "execution_count": null,
      "outputs": []
    },
    {
      "cell_type": "markdown",
      "source": [
        "# Import & Preprocess Files"
      ],
      "metadata": {
        "id": "OkD9DpTRTLeQ"
      }
    },
    {
      "cell_type": "code",
      "source": [
        "# Unzip the archive and place it in the same folder\n",
        "#!unzip \"/content/drive/MyDrive/Colab Datasets/archive_occular_disease.zip\" -d \"/content/drive/MyDrive/Colab Datasets\""
      ],
      "metadata": {
        "id": "jPM9LuekTSeZ"
      },
      "execution_count": 18,
      "outputs": []
    },
    {
      "cell_type": "code",
      "source": [
        "# Set the image directory\n",
        "imageDirectory = \"/content/drive/MyDrive/Colab Datasets/AML_1_Dataset/preprocessed_images\""
      ],
      "metadata": {
        "id": "ymNg3YxoXdtD"
      },
      "execution_count": 19,
      "outputs": []
    },
    {
      "cell_type": "code",
      "source": [
        "# Import image description data\n",
        "imageData = pd.read_csv(\"/content/drive/MyDrive/Colab Datasets/AML_1_Dataset/Original/full_df.csv\")\n",
        "imageData.head()"
      ],
      "metadata": {
        "id": "vU-ZcquGYoC0"
      },
      "execution_count": null,
      "outputs": []
    },
    {
      "cell_type": "code",
      "source": [],
      "metadata": {
        "id": "2cwLg9eSlZ59"
      },
      "execution_count": null,
      "outputs": []
    }
  ]
}